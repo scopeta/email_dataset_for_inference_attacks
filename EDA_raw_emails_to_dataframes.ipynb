{
 "cells": [
  {
   "cell_type": "code",
   "execution_count": 384,
   "metadata": {},
   "outputs": [],
   "source": [
    "import os\n",
    "import sys\n",
    "import re\n",
    "import pandas as pd\n",
    "import numpy as np\n",
    "from html import unescape\n",
    "#using email module and policy function (in email) in python to parse mails\n",
    "import email\n",
    "import email.policy\n",
    "input_dir = 'data'\n"
   ]
  },
  {
   "cell_type": "markdown",
   "metadata": {},
   "source": [
    "# Enron email dataset"
   ]
  },
  {
   "cell_type": "markdown",
   "metadata": {},
   "source": [
    "## Loading raw data"
   ]
  },
  {
   "cell_type": "code",
   "execution_count": 182,
   "metadata": {},
   "outputs": [],
   "source": [
    "dfe = pd.read_csv(os.path.join(input_dir,'enron','emails.csv'))"
   ]
  },
  {
   "cell_type": "code",
   "execution_count": 183,
   "metadata": {},
   "outputs": [
    {
     "name": "stdout",
     "output_type": "stream",
     "text": [
      "(517401, 2)\n"
     ]
    },
    {
     "data": {
      "text/html": [
       "<div>\n",
       "<style scoped>\n",
       "    .dataframe tbody tr th:only-of-type {\n",
       "        vertical-align: middle;\n",
       "    }\n",
       "\n",
       "    .dataframe tbody tr th {\n",
       "        vertical-align: top;\n",
       "    }\n",
       "\n",
       "    .dataframe thead th {\n",
       "        text-align: right;\n",
       "    }\n",
       "</style>\n",
       "<table border=\"1\" class=\"dataframe\">\n",
       "  <thead>\n",
       "    <tr style=\"text-align: right;\">\n",
       "      <th></th>\n",
       "      <th>file</th>\n",
       "      <th>message</th>\n",
       "    </tr>\n",
       "  </thead>\n",
       "  <tbody>\n",
       "    <tr>\n",
       "      <th>0</th>\n",
       "      <td>allen-p/_sent_mail/1.</td>\n",
       "      <td>Message-ID: &lt;18782981.1075855378110.JavaMail.e...</td>\n",
       "    </tr>\n",
       "    <tr>\n",
       "      <th>1</th>\n",
       "      <td>allen-p/_sent_mail/10.</td>\n",
       "      <td>Message-ID: &lt;15464986.1075855378456.JavaMail.e...</td>\n",
       "    </tr>\n",
       "    <tr>\n",
       "      <th>2</th>\n",
       "      <td>allen-p/_sent_mail/100.</td>\n",
       "      <td>Message-ID: &lt;24216240.1075855687451.JavaMail.e...</td>\n",
       "    </tr>\n",
       "    <tr>\n",
       "      <th>3</th>\n",
       "      <td>allen-p/_sent_mail/1000.</td>\n",
       "      <td>Message-ID: &lt;13505866.1075863688222.JavaMail.e...</td>\n",
       "    </tr>\n",
       "    <tr>\n",
       "      <th>4</th>\n",
       "      <td>allen-p/_sent_mail/1001.</td>\n",
       "      <td>Message-ID: &lt;30922949.1075863688243.JavaMail.e...</td>\n",
       "    </tr>\n",
       "  </tbody>\n",
       "</table>\n",
       "</div>"
      ],
      "text/plain": [
       "                       file                                            message\n",
       "0     allen-p/_sent_mail/1.  Message-ID: <18782981.1075855378110.JavaMail.e...\n",
       "1    allen-p/_sent_mail/10.  Message-ID: <15464986.1075855378456.JavaMail.e...\n",
       "2   allen-p/_sent_mail/100.  Message-ID: <24216240.1075855687451.JavaMail.e...\n",
       "3  allen-p/_sent_mail/1000.  Message-ID: <13505866.1075863688222.JavaMail.e...\n",
       "4  allen-p/_sent_mail/1001.  Message-ID: <30922949.1075863688243.JavaMail.e..."
      ]
     },
     "execution_count": 183,
     "metadata": {},
     "output_type": "execute_result"
    }
   ],
   "source": [
    "print(dfe.shape)\n",
    "dfe.head()"
   ]
  },
  {
   "cell_type": "code",
   "execution_count": 184,
   "metadata": {},
   "outputs": [
    {
     "name": "stdout",
     "output_type": "stream",
     "text": [
      "Message-ID: <33076797.1075855687515.JavaMail.evans@thyme>\n",
      "Date: Mon, 16 Oct 2000 06:42:00 -0700 (PDT)\n",
      "From: phillip.allen@enron.com\n",
      "To: buck.buckner@honeywell.com\n",
      "Subject: Re: FW: fixed forward or other Collar floor gas price terms\n",
      "Mime-Version: 1.0\n",
      "Content-Type: text/plain; charset=us-ascii\n",
      "Content-Transfer-Encoding: 7bit\n",
      "X-From: Phillip K Allen\n",
      "X-To: \"Buckner, Buck\" <buck.buckner@honeywell.com> @ ENRON\n",
      "X-cc: \n",
      "X-bcc: \n",
      "X-Folder: \\Phillip_Allen_Dec2000\\Notes Folders\\'sent mail\n",
      "X-Origin: Allen-P\n",
      "X-FileName: pallen.nsf\n",
      "\n",
      "Mr. Buckner,\n",
      "\n",
      " For delivered gas behind San Diego, Enron Energy Services is the appropriate \n",
      "Enron entity.  I have forwarded your request to Zarin Imam at EES.  Her phone \n",
      "number is 713-853-7107.  \n",
      "\n",
      "Phillip Allen\n"
     ]
    }
   ],
   "source": [
    "# A single message looks like this\n",
    "print(dfe['message'][10])"
   ]
  },
  {
   "cell_type": "code",
   "execution_count": 185,
   "metadata": {},
   "outputs": [
    {
     "data": {
      "text/plain": [
       "(517401, 2)"
      ]
     },
     "execution_count": 185,
     "metadata": {},
     "output_type": "execute_result"
    }
   ],
   "source": [
    "# get shape of the data\n",
    "dfe.shape"
   ]
  },
  {
   "cell_type": "code",
   "execution_count": 186,
   "metadata": {},
   "outputs": [],
   "source": [
    "## Helper functions\n",
    "\n",
    "# concatenate multiple body sessions\n",
    "def get_text_from_email(msg):\n",
    "    '''To get the content from email objects'''\n",
    "    parts = []\n",
    "    for part in msg.walk():\n",
    "        ctype = part.get_content_type()\n",
    "        if ctype == 'text/plain' :\n",
    "            parts.append( part.get_payload() )\n",
    "        elif ctype == 'text/html' :\n",
    "            parts.append( html_to_plain_text(part.get_payload() ))\n",
    "        \n",
    "    return ''.join(parts)\n",
    "\n",
    "\n",
    "# convert HTML to plain text\n",
    "def html_to_plain_text(html):\n",
    "    text = re.sub('<head.*?>.*?</head>', '', html, flags=re.M | re.S | re.I)\n",
    "    text = re.sub('<a\\s.*?>', ' HYPERLINK ', text, flags=re.M | re.S | re.I)\n",
    "    text = re.sub('<.*?>', '', text, flags=re.M | re.S)\n",
    "    text = re.sub(r'(\\s*\\n)+', '\\n', text, flags=re.M | re.S)\n",
    "    return unescape(text)\n"
   ]
  },
  {
   "cell_type": "code",
   "execution_count": 187,
   "metadata": {},
   "outputs": [
    {
     "data": {
      "text/plain": [
       "[('Message-ID', '<33076797.1075855687515.JavaMail.evans@thyme>'),\n",
       " ('Date', 'Mon, 16 Oct 2000 06:42:00 -0700 (PDT)'),\n",
       " ('From', 'phillip.allen@enron.com'),\n",
       " ('To', 'buck.buckner@honeywell.com'),\n",
       " ('Subject', 'Re: FW: fixed forward or other Collar floor gas price terms'),\n",
       " ('Mime-Version', '1.0'),\n",
       " ('Content-Type', 'text/plain; charset=us-ascii'),\n",
       " ('Content-Transfer-Encoding', '7bit'),\n",
       " ('X-From', 'Phillip K Allen'),\n",
       " ('X-To', '\"Buckner, Buck\" <buck.buckner@honeywell.com> @ ENRON'),\n",
       " ('X-cc', ''),\n",
       " ('X-bcc', ''),\n",
       " ('X-Folder', \"\\\\Phillip_Allen_Dec2000\\\\Notes Folders\\\\'sent mail\"),\n",
       " ('X-Origin', 'Allen-P'),\n",
       " ('X-FileName', 'pallen.nsf')]"
      ]
     },
     "execution_count": 187,
     "metadata": {},
     "output_type": "execute_result"
    }
   ],
   "source": [
    "# transform the email into correct format\n",
    "message = dfe['message'][10]\n",
    "e = email.message_from_string(message)\n",
    "\n",
    "e.items()"
   ]
  },
  {
   "cell_type": "code",
   "execution_count": 188,
   "metadata": {},
   "outputs": [
    {
     "data": {
      "text/plain": [
       "'Mr. Buckner,\\n\\n For delivered gas behind San Diego, Enron Energy Services is the appropriate \\nEnron entity.  I have forwarded your request to Zarin Imam at EES.  Her phone \\nnumber is 713-853-7107.  \\n\\nPhillip Allen'"
      ]
     },
     "execution_count": 188,
     "metadata": {},
     "output_type": "execute_result"
    }
   ],
   "source": [
    "# show message body\n",
    "e.get_payload()"
   ]
  },
  {
   "cell_type": "markdown",
   "metadata": {},
   "source": [
    "## Extract fields from email message object "
   ]
  },
  {
   "cell_type": "code",
   "execution_count": 189,
   "metadata": {},
   "outputs": [],
   "source": [
    "# now we add those fields into our 'df' dataframe\n",
    "# @TODO refactor to run once for an array of fields\n",
    "def get_field(field, messages):\n",
    "    column = []\n",
    "    for message in messages:\n",
    "        e = email.message_from_string(message)\n",
    "        column.append(e.get(field))\n",
    "    return column"
   ]
  },
  {
   "cell_type": "code",
   "execution_count": 190,
   "metadata": {},
   "outputs": [
    {
     "data": {
      "text/html": [
       "<div>\n",
       "<style scoped>\n",
       "    .dataframe tbody tr th:only-of-type {\n",
       "        vertical-align: middle;\n",
       "    }\n",
       "\n",
       "    .dataframe tbody tr th {\n",
       "        vertical-align: top;\n",
       "    }\n",
       "\n",
       "    .dataframe thead th {\n",
       "        text-align: right;\n",
       "    }\n",
       "</style>\n",
       "<table border=\"1\" class=\"dataframe\">\n",
       "  <thead>\n",
       "    <tr style=\"text-align: right;\">\n",
       "      <th></th>\n",
       "      <th>file</th>\n",
       "      <th>message</th>\n",
       "      <th>to</th>\n",
       "      <th>from</th>\n",
       "      <th>date</th>\n",
       "      <th>subject</th>\n",
       "    </tr>\n",
       "  </thead>\n",
       "  <tbody>\n",
       "    <tr>\n",
       "      <th>0</th>\n",
       "      <td>allen-p/_sent_mail/1.</td>\n",
       "      <td>Message-ID: &lt;18782981.1075855378110.JavaMail.e...</td>\n",
       "      <td>tim.belden@enron.com</td>\n",
       "      <td>phillip.allen@enron.com</td>\n",
       "      <td>Mon, 14 May 2001 16:39:00 -0700 (PDT)</td>\n",
       "      <td></td>\n",
       "    </tr>\n",
       "    <tr>\n",
       "      <th>1</th>\n",
       "      <td>allen-p/_sent_mail/10.</td>\n",
       "      <td>Message-ID: &lt;15464986.1075855378456.JavaMail.e...</td>\n",
       "      <td>john.lavorato@enron.com</td>\n",
       "      <td>phillip.allen@enron.com</td>\n",
       "      <td>Fri, 4 May 2001 13:51:00 -0700 (PDT)</td>\n",
       "      <td>Re:</td>\n",
       "    </tr>\n",
       "    <tr>\n",
       "      <th>2</th>\n",
       "      <td>allen-p/_sent_mail/100.</td>\n",
       "      <td>Message-ID: &lt;24216240.1075855687451.JavaMail.e...</td>\n",
       "      <td>leah.arsdall@enron.com</td>\n",
       "      <td>phillip.allen@enron.com</td>\n",
       "      <td>Wed, 18 Oct 2000 03:00:00 -0700 (PDT)</td>\n",
       "      <td>Re: test</td>\n",
       "    </tr>\n",
       "  </tbody>\n",
       "</table>\n",
       "</div>"
      ],
      "text/plain": [
       "                      file                                            message  \\\n",
       "0    allen-p/_sent_mail/1.  Message-ID: <18782981.1075855378110.JavaMail.e...   \n",
       "1   allen-p/_sent_mail/10.  Message-ID: <15464986.1075855378456.JavaMail.e...   \n",
       "2  allen-p/_sent_mail/100.  Message-ID: <24216240.1075855687451.JavaMail.e...   \n",
       "\n",
       "                        to                     from  \\\n",
       "0     tim.belden@enron.com  phillip.allen@enron.com   \n",
       "1  john.lavorato@enron.com  phillip.allen@enron.com   \n",
       "2   leah.arsdall@enron.com  phillip.allen@enron.com   \n",
       "\n",
       "                                    date   subject  \n",
       "0  Mon, 14 May 2001 16:39:00 -0700 (PDT)            \n",
       "1   Fri, 4 May 2001 13:51:00 -0700 (PDT)       Re:  \n",
       "2  Wed, 18 Oct 2000 03:00:00 -0700 (PDT)  Re: test  "
      ]
     },
     "execution_count": 190,
     "metadata": {},
     "output_type": "execute_result"
    }
   ],
   "source": [
    "dfe.loc[:,('to')] = get_field(\"To\", dfe['message'])\n",
    "dfe.loc[:,('from')] = get_field(\"From\", dfe['message'])\n",
    "dfe.loc[:,('date')] = get_field(\"Date\", dfe['message'])\n",
    "dfe.loc[:,('subject')] = get_field(\"Subject\", dfe['message'])\n",
    "dfe.head(3)"
   ]
  },
  {
   "cell_type": "code",
   "execution_count": 191,
   "metadata": {},
   "outputs": [],
   "source": [
    "# Extract Message Body\n",
    "# @TODO refactor to run once for an array of fields\n",
    "def get_body(messages):\n",
    "    column = []\n",
    "    for message in messages:\n",
    "        e = email.message_from_string(message)\n",
    "        column.append(get_text_from_email(e))\n",
    "    return column\n"
   ]
  },
  {
   "cell_type": "code",
   "execution_count": 192,
   "metadata": {},
   "outputs": [
    {
     "data": {
      "text/html": [
       "<div>\n",
       "<style scoped>\n",
       "    .dataframe tbody tr th:only-of-type {\n",
       "        vertical-align: middle;\n",
       "    }\n",
       "\n",
       "    .dataframe tbody tr th {\n",
       "        vertical-align: top;\n",
       "    }\n",
       "\n",
       "    .dataframe thead th {\n",
       "        text-align: right;\n",
       "    }\n",
       "</style>\n",
       "<table border=\"1\" class=\"dataframe\">\n",
       "  <thead>\n",
       "    <tr style=\"text-align: right;\">\n",
       "      <th></th>\n",
       "      <th>file</th>\n",
       "      <th>message</th>\n",
       "      <th>to</th>\n",
       "      <th>from</th>\n",
       "      <th>date</th>\n",
       "      <th>subject</th>\n",
       "    </tr>\n",
       "  </thead>\n",
       "  <tbody>\n",
       "    <tr>\n",
       "      <th>count</th>\n",
       "      <td>517401</td>\n",
       "      <td>517401</td>\n",
       "      <td>495554</td>\n",
       "      <td>517401</td>\n",
       "      <td>517401</td>\n",
       "      <td>517401</td>\n",
       "    </tr>\n",
       "    <tr>\n",
       "      <th>unique</th>\n",
       "      <td>517401</td>\n",
       "      <td>517401</td>\n",
       "      <td>58563</td>\n",
       "      <td>20328</td>\n",
       "      <td>224128</td>\n",
       "      <td>159290</td>\n",
       "    </tr>\n",
       "    <tr>\n",
       "      <th>top</th>\n",
       "      <td>lavorato-j/deleted_items/492.</td>\n",
       "      <td>Message-ID: &lt;3975082.1075845627684.JavaMail.ev...</td>\n",
       "      <td>pete.davis@enron.com</td>\n",
       "      <td>kay.mann@enron.com</td>\n",
       "      <td>Wed, 27 Jun 2001 16:02:00 -0700 (PDT)</td>\n",
       "      <td></td>\n",
       "    </tr>\n",
       "    <tr>\n",
       "      <th>freq</th>\n",
       "      <td>1</td>\n",
       "      <td>1</td>\n",
       "      <td>9155</td>\n",
       "      <td>16735</td>\n",
       "      <td>1118</td>\n",
       "      <td>19187</td>\n",
       "    </tr>\n",
       "  </tbody>\n",
       "</table>\n",
       "</div>"
      ],
      "text/plain": [
       "                                 file  \\\n",
       "count                          517401   \n",
       "unique                         517401   \n",
       "top     lavorato-j/deleted_items/492.   \n",
       "freq                                1   \n",
       "\n",
       "                                                  message  \\\n",
       "count                                              517401   \n",
       "unique                                             517401   \n",
       "top     Message-ID: <3975082.1075845627684.JavaMail.ev...   \n",
       "freq                                                    1   \n",
       "\n",
       "                          to                from  \\\n",
       "count                 495554              517401   \n",
       "unique                 58563               20328   \n",
       "top     pete.davis@enron.com  kay.mann@enron.com   \n",
       "freq                    9155               16735   \n",
       "\n",
       "                                         date subject  \n",
       "count                                  517401  517401  \n",
       "unique                                 224128  159290  \n",
       "top     Wed, 27 Jun 2001 16:02:00 -0700 (PDT)          \n",
       "freq                                     1118   19187  "
      ]
     },
     "execution_count": 192,
     "metadata": {},
     "output_type": "execute_result"
    }
   ],
   "source": [
    "dfe.describe()"
   ]
  },
  {
   "cell_type": "code",
   "execution_count": 193,
   "metadata": {},
   "outputs": [
    {
     "data": {
      "text/html": [
       "<div>\n",
       "<style scoped>\n",
       "    .dataframe tbody tr th:only-of-type {\n",
       "        vertical-align: middle;\n",
       "    }\n",
       "\n",
       "    .dataframe tbody tr th {\n",
       "        vertical-align: top;\n",
       "    }\n",
       "\n",
       "    .dataframe thead th {\n",
       "        text-align: right;\n",
       "    }\n",
       "</style>\n",
       "<table border=\"1\" class=\"dataframe\">\n",
       "  <thead>\n",
       "    <tr style=\"text-align: right;\">\n",
       "      <th></th>\n",
       "      <th>file</th>\n",
       "      <th>message</th>\n",
       "      <th>to</th>\n",
       "      <th>from</th>\n",
       "      <th>date</th>\n",
       "      <th>subject</th>\n",
       "      <th>body</th>\n",
       "    </tr>\n",
       "  </thead>\n",
       "  <tbody>\n",
       "    <tr>\n",
       "      <th>0</th>\n",
       "      <td>allen-p/_sent_mail/1.</td>\n",
       "      <td>Message-ID: &lt;18782981.1075855378110.JavaMail.e...</td>\n",
       "      <td>tim.belden@enron.com</td>\n",
       "      <td>phillip.allen@enron.com</td>\n",
       "      <td>Mon, 14 May 2001 16:39:00 -0700 (PDT)</td>\n",
       "      <td></td>\n",
       "      <td>Here is our forecast\\n\\n</td>\n",
       "    </tr>\n",
       "    <tr>\n",
       "      <th>1</th>\n",
       "      <td>allen-p/_sent_mail/10.</td>\n",
       "      <td>Message-ID: &lt;15464986.1075855378456.JavaMail.e...</td>\n",
       "      <td>john.lavorato@enron.com</td>\n",
       "      <td>phillip.allen@enron.com</td>\n",
       "      <td>Fri, 4 May 2001 13:51:00 -0700 (PDT)</td>\n",
       "      <td>Re:</td>\n",
       "      <td>Traveling to have a business meeting takes the...</td>\n",
       "    </tr>\n",
       "    <tr>\n",
       "      <th>2</th>\n",
       "      <td>allen-p/_sent_mail/100.</td>\n",
       "      <td>Message-ID: &lt;24216240.1075855687451.JavaMail.e...</td>\n",
       "      <td>leah.arsdall@enron.com</td>\n",
       "      <td>phillip.allen@enron.com</td>\n",
       "      <td>Wed, 18 Oct 2000 03:00:00 -0700 (PDT)</td>\n",
       "      <td>Re: test</td>\n",
       "      <td>test successful.  way to go!!!</td>\n",
       "    </tr>\n",
       "  </tbody>\n",
       "</table>\n",
       "</div>"
      ],
      "text/plain": [
       "                      file                                            message  \\\n",
       "0    allen-p/_sent_mail/1.  Message-ID: <18782981.1075855378110.JavaMail.e...   \n",
       "1   allen-p/_sent_mail/10.  Message-ID: <15464986.1075855378456.JavaMail.e...   \n",
       "2  allen-p/_sent_mail/100.  Message-ID: <24216240.1075855687451.JavaMail.e...   \n",
       "\n",
       "                        to                     from  \\\n",
       "0     tim.belden@enron.com  phillip.allen@enron.com   \n",
       "1  john.lavorato@enron.com  phillip.allen@enron.com   \n",
       "2   leah.arsdall@enron.com  phillip.allen@enron.com   \n",
       "\n",
       "                                    date   subject  \\\n",
       "0  Mon, 14 May 2001 16:39:00 -0700 (PDT)             \n",
       "1   Fri, 4 May 2001 13:51:00 -0700 (PDT)       Re:   \n",
       "2  Wed, 18 Oct 2000 03:00:00 -0700 (PDT)  Re: test   \n",
       "\n",
       "                                                body  \n",
       "0                          Here is our forecast\\n\\n   \n",
       "1  Traveling to have a business meeting takes the...  \n",
       "2                     test successful.  way to go!!!  "
      ]
     },
     "execution_count": 193,
     "metadata": {},
     "output_type": "execute_result"
    }
   ],
   "source": [
    "dfe['body'] = get_body(dfe['message'])\n",
    "dfe.head(3)"
   ]
  },
  {
   "cell_type": "code",
   "execution_count": 194,
   "metadata": {},
   "outputs": [
    {
     "data": {
      "text/plain": [
       "0                             Here is our forecast\\n\\n \n",
       "1     Traveling to have a business meeting takes the...\n",
       "2                        test successful.  way to go!!!\n",
       "3     Randy,\\n\\n Can you send me a schedule of the s...\n",
       "4                   Let's shoot for Tuesday at 11:45.  \n",
       "5     Greg,\\n\\n How about either next Tuesday or Thu...\n",
       "6     Please cc the following distribution list with...\n",
       "7                      any morning between 10 and 11:30\n",
       "8     1. login:  pallen pw: ke9davis\\n\\n I don't thi...\n",
       "9     ---------------------- Forwarded by Phillip K ...\n",
       "10    Mr. Buckner,\\n\\n For delivered gas behind San ...\n",
       "11    Lucy,\\n\\n Here are the rentrolls:\\n\\n\\n\\n Open...\n",
       "12    ---------------------- Forwarded by Phillip K ...\n",
       "13    ---------------------- Forwarded by Phillip K ...\n",
       "14    Dave, \\n\\n Here are the names of the west desk...\n",
       "Name: body, dtype: object"
      ]
     },
     "execution_count": 194,
     "metadata": {},
     "output_type": "execute_result"
    }
   ],
   "source": [
    "dfe['body'].head(15)\n"
   ]
  },
  {
   "cell_type": "markdown",
   "metadata": {},
   "source": [
    "## Cleaning and Preparations"
   ]
  },
  {
   "cell_type": "code",
   "execution_count": null,
   "metadata": {},
   "outputs": [],
   "source": [
    "# convert field to date format\n",
    "dfe['date'] = pd.to_datetime(dfe['date'], utc=True, infer_datetime_format=True)"
   ]
  },
  {
   "cell_type": "code",
   "execution_count": 331,
   "metadata": {},
   "outputs": [
    {
     "data": {
      "text/plain": [
       "file                    object\n",
       "message                 object\n",
       "to                      object\n",
       "from                    object\n",
       "date       datetime64[ns, UTC]\n",
       "subject                 object\n",
       "body                    object\n",
       "dtype: object"
      ]
     },
     "execution_count": 331,
     "metadata": {},
     "output_type": "execute_result"
    }
   ],
   "source": [
    "dfe.dtypes"
   ]
  },
  {
   "cell_type": "code",
   "execution_count": 325,
   "metadata": {},
   "outputs": [
    {
     "data": {
      "text/html": [
       "<div>\n",
       "<style scoped>\n",
       "    .dataframe tbody tr th:only-of-type {\n",
       "        vertical-align: middle;\n",
       "    }\n",
       "\n",
       "    .dataframe tbody tr th {\n",
       "        vertical-align: top;\n",
       "    }\n",
       "\n",
       "    .dataframe thead th {\n",
       "        text-align: right;\n",
       "    }\n",
       "</style>\n",
       "<table border=\"1\" class=\"dataframe\">\n",
       "  <thead>\n",
       "    <tr style=\"text-align: right;\">\n",
       "      <th></th>\n",
       "      <th>file</th>\n",
       "      <th>message</th>\n",
       "      <th>to</th>\n",
       "      <th>from</th>\n",
       "      <th>date</th>\n",
       "      <th>subject</th>\n",
       "      <th>body</th>\n",
       "    </tr>\n",
       "  </thead>\n",
       "  <tbody>\n",
       "    <tr>\n",
       "      <th>count</th>\n",
       "      <td>517401</td>\n",
       "      <td>517401</td>\n",
       "      <td>495554</td>\n",
       "      <td>517401</td>\n",
       "      <td>517401</td>\n",
       "      <td>517401</td>\n",
       "      <td>517401</td>\n",
       "    </tr>\n",
       "    <tr>\n",
       "      <th>unique</th>\n",
       "      <td>517401</td>\n",
       "      <td>517401</td>\n",
       "      <td>58563</td>\n",
       "      <td>20328</td>\n",
       "      <td>224122</td>\n",
       "      <td>159290</td>\n",
       "      <td>249025</td>\n",
       "    </tr>\n",
       "    <tr>\n",
       "      <th>top</th>\n",
       "      <td>lavorato-j/deleted_items/492.</td>\n",
       "      <td>Message-ID: &lt;3975082.1075845627684.JavaMail.ev...</td>\n",
       "      <td>pete.davis@enron.com</td>\n",
       "      <td>kay.mann@enron.com</td>\n",
       "      <td>2001-06-27 23:02:00+00:00</td>\n",
       "      <td></td>\n",
       "      <td>As you know, Enron Net Works (ENW) and Enron G...</td>\n",
       "    </tr>\n",
       "    <tr>\n",
       "      <th>freq</th>\n",
       "      <td>1</td>\n",
       "      <td>1</td>\n",
       "      <td>9155</td>\n",
       "      <td>16735</td>\n",
       "      <td>1118</td>\n",
       "      <td>19187</td>\n",
       "      <td>112</td>\n",
       "    </tr>\n",
       "    <tr>\n",
       "      <th>first</th>\n",
       "      <td>NaN</td>\n",
       "      <td>NaN</td>\n",
       "      <td>NaN</td>\n",
       "      <td>NaN</td>\n",
       "      <td>1980-01-01 00:00:00+00:00</td>\n",
       "      <td>NaN</td>\n",
       "      <td>NaN</td>\n",
       "    </tr>\n",
       "    <tr>\n",
       "      <th>last</th>\n",
       "      <td>NaN</td>\n",
       "      <td>NaN</td>\n",
       "      <td>NaN</td>\n",
       "      <td>NaN</td>\n",
       "      <td>2044-01-04 22:48:58+00:00</td>\n",
       "      <td>NaN</td>\n",
       "      <td>NaN</td>\n",
       "    </tr>\n",
       "  </tbody>\n",
       "</table>\n",
       "</div>"
      ],
      "text/plain": [
       "                                 file  \\\n",
       "count                          517401   \n",
       "unique                         517401   \n",
       "top     lavorato-j/deleted_items/492.   \n",
       "freq                                1   \n",
       "first                             NaN   \n",
       "last                              NaN   \n",
       "\n",
       "                                                  message  \\\n",
       "count                                              517401   \n",
       "unique                                             517401   \n",
       "top     Message-ID: <3975082.1075845627684.JavaMail.ev...   \n",
       "freq                                                    1   \n",
       "first                                                 NaN   \n",
       "last                                                  NaN   \n",
       "\n",
       "                          to                from                       date  \\\n",
       "count                 495554              517401                     517401   \n",
       "unique                 58563               20328                     224122   \n",
       "top     pete.davis@enron.com  kay.mann@enron.com  2001-06-27 23:02:00+00:00   \n",
       "freq                    9155               16735                       1118   \n",
       "first                    NaN                 NaN  1980-01-01 00:00:00+00:00   \n",
       "last                     NaN                 NaN  2044-01-04 22:48:58+00:00   \n",
       "\n",
       "       subject                                               body  \n",
       "count   517401                                             517401  \n",
       "unique  159290                                             249025  \n",
       "top             As you know, Enron Net Works (ENW) and Enron G...  \n",
       "freq     19187                                                112  \n",
       "first      NaN                                                NaN  \n",
       "last       NaN                                                NaN  "
      ]
     },
     "execution_count": 325,
     "metadata": {},
     "output_type": "execute_result"
    }
   ],
   "source": [
    "dfe.describe()"
   ]
  },
  {
   "cell_type": "code",
   "execution_count": 324,
   "metadata": {},
   "outputs": [
    {
     "name": "stdout",
     "output_type": "stream",
     "text": [
      "0\n",
      "0\n",
      "0\n",
      "0\n"
     ]
    }
   ],
   "source": [
    "# check for null values\n",
    "print(sum(dfe.body == ''))\n",
    "print(sum(pd.isna(dfe.date)))\n",
    "print(sum(dfe.to == ''))\n",
    "print(sum(dfe['from'] == ''))"
   ]
  },
  {
   "cell_type": "markdown",
   "metadata": {},
   "source": [
    "## Save new dataset with extracted fields"
   ]
  },
  {
   "cell_type": "code",
   "execution_count": 319,
   "metadata": {},
   "outputs": [],
   "source": [
    "dfe.loc[:, ('date', 'to', 'from', 'body')].to_csv (os.path.join(input_dir, 'enron_clean.csv'), index = False, header=True)"
   ]
  },
  {
   "cell_type": "markdown",
   "metadata": {},
   "source": [
    "# SpamAssassin dataset"
   ]
  },
  {
   "cell_type": "code",
   "execution_count": 155,
   "metadata": {},
   "outputs": [
    {
     "data": {
      "text/plain": [
       "'data\\\\spamassassin\\\\all_email'"
      ]
     },
     "execution_count": 155,
     "metadata": {},
     "output_type": "execute_result"
    }
   ],
   "source": [
    "email_path = os.path.join(input_dir, 'spamassassin', 'all_email')\n",
    "email_path"
   ]
  },
  {
   "cell_type": "code",
   "execution_count": 156,
   "metadata": {},
   "outputs": [
    {
     "data": {
      "text/plain": [
       "4197"
      ]
     },
     "execution_count": 156,
     "metadata": {},
     "output_type": "execute_result"
    }
   ],
   "source": [
    "len(os.listdir(email_path))"
   ]
  },
  {
   "cell_type": "code",
   "execution_count": 157,
   "metadata": {},
   "outputs": [],
   "source": [
    "# helper code to investigate to find index of files\n",
    "# d = pd.Series(sorted(os.listdir(email_path)))\n",
    "# d.head(50)"
   ]
  },
  {
   "cell_type": "code",
   "execution_count": 158,
   "metadata": {},
   "outputs": [
    {
     "data": {
      "text/plain": [
       "4197"
      ]
     },
     "execution_count": 158,
     "metadata": {},
     "output_type": "execute_result"
    }
   ],
   "source": [
    "email_filenames = [name for name in sorted(os.listdir(email_path)) if len(name) > 20]\n",
    "len(email_filenames)"
   ]
  },
  {
   "cell_type": "code",
   "execution_count": 159,
   "metadata": {},
   "outputs": [],
   "source": [
    "def load_email(filename, path):\n",
    "    with open(os.path.join(path, filename), \"rb\") as f:\n",
    "        return email.parser.BytesParser(policy=email.policy.default).parse(f)\n",
    "\n",
    "emails = [load_email(name, email_path) for name in email_filenames]"
   ]
  },
  {
   "cell_type": "code",
   "execution_count": 160,
   "metadata": {},
   "outputs": [
    {
     "data": {
      "text/plain": [
       "4197"
      ]
     },
     "execution_count": 160,
     "metadata": {},
     "output_type": "execute_result"
    }
   ],
   "source": [
    "len(emails)"
   ]
  },
  {
   "cell_type": "code",
   "execution_count": 161,
   "metadata": {},
   "outputs": [
    {
     "name": "stdout",
     "output_type": "stream",
     "text": [
      "Return-Path: <ilug-admin@linux.ie>\n",
      "Delivered-To: yyyy@localhost.netnoteinc.com\n",
      "Received: from localhost (localhost [127.0.0.1])\n",
      "\tby phobos.labs.netnoteinc.com (Postfix) with ESMTP id 9E1F5441DD\n",
      "\tfor <jm@localhost>; Tue,  6 Aug 2002 06:48:09 -0400 (EDT)\n",
      "Received: from phobos [127.0.0.1]\n",
      "\tby localhost with IMAP (fetchmail-5.9.0)\n",
      "\tfor jm@localhost (single-drop); Tue, 06 Aug 2002 11:48:09 +0100 (IST)\n",
      "Received: from lugh.tuatha.org (root@lugh.tuatha.org [194.125.145.45]) by\n",
      "    dogma.slashnull.org (8.11.6/8.11.6) with ESMTP id g72LqWv13294 for\n",
      "    <jm-ilug@jmason.org>; Fri, 2 Aug 2002 22:52:32 +0100\n",
      "Received: from lugh (root@localhost [127.0.0.1]) by lugh.tuatha.org\n",
      "    (8.9.3/8.9.3) with ESMTP id WAA31224; Fri, 2 Aug 2002 22:50:17 +0100\n",
      "Received: from bettyjagessar.com (w142.z064000057.nyc-ny.dsl.cnc.net\n",
      "    [64.0.57.142]) by lugh.tuatha.org (8.9.3/8.9.3) with ESMTP id WAA31201 for\n",
      "    <ilug@linux.ie>; Fri, 2 Aug 2002 22:50:11 +0100\n",
      "X-Authentication-Warning: lugh.tuatha.org: Host\n",
      " w142.z064000057.nyc-ny.dsl.cnc.net    [64.0.57.142] claimed to be\n",
      " bettyjagessar.com\n",
      "Received: from 64.0.57.142 [202.63.165.34] by bettyjagessar.com\n",
      "    (SMTPD32-7.06 EVAL) id A42A7FC01F2; Fri, 02 Aug 2002 02:18:18 -0400\n",
      "Message-Id: <1028311679.886@0.57.142>\n",
      "Date: Fri, 02 Aug 2002 23:37:59 0530\n",
      "To: ilug@linux.ie\n",
      "From: \"Start Now\" <startnow2002@hotmail.com>\n",
      "MIME-Version: 1.0\n",
      "Content-Type: text/plain; charset=\"US-ASCII\"; format=flowed\n",
      "Subject: [ILUG] STOP THE MLM INSANITY\n",
      "Sender: ilug-admin@linux.ie\n",
      "Errors-To: ilug-admin@linux.ie\n",
      "X-Mailman-Version: 1.1\n",
      "Precedence: bulk\n",
      "List-Id: Irish Linux Users' Group <ilug.linux.ie>\n",
      "X-Beenthere: ilug@linux.ie\n",
      "\n",
      "Greetings!\n",
      "\n",
      "You are receiving this letter because you have expressed an interest in \n",
      "receiving information about online business opportunities. If this is \n",
      "erroneous then please accept my most sincere apology. This is a one-time \n",
      "mailing, so no removal is necessary.\n",
      "\n",
      "If you've been burned, betrayed, and back-stabbed by multi-level marketing, \n",
      "MLM, then please read this letter. It could be the most important one that \n",
      "has ever landed in your Inbox.\n",
      "\n",
      "MULTI-LEVEL MARKETING IS A HUGE MISTAKE FOR MOST PEOPLE\n",
      "\n",
      "MLM has failed to deliver on its promises for the past 50 years. The pursuit \n",
      "of the \"MLM Dream\" has cost hundreds of thousands of people their friends, \n",
      "their fortunes and their sacred honor. The fact is that MLM is fatally \n",
      "flawed, meaning that it CANNOT work for most people.\n",
      "\n",
      "The companies and the few who earn the big money in MLM are NOT going to \n",
      "tell you the real story. FINALLY, there is someone who has the courage to \n",
      "cut through the hype and lies and tell the TRUTH about MLM.\n",
      "\n",
      "HERE'S GOOD NEWS\n",
      "\n",
      "There IS an alternative to MLM that WORKS, and works BIG! If you haven't yet \n",
      "abandoned your dreams, then you need to see this. Earning the kind of income \n",
      "you've dreamed about is easier than you think!\n",
      "\n",
      "With your permission, I'd like to send you a brief letter that will tell you \n",
      "WHY MLM doesn't work for most people and will then introduce you to \n",
      "something so new and refreshing that you'll wonder why you haven't heard of \n",
      "this before.\n",
      "\n",
      "I promise that there will be NO unwanted follow up, NO sales pitch, no one \n",
      "will call you, and your email address will only be used to send you the \n",
      "information. Period.\n",
      "\n",
      "To receive this free, life-changing information, simply click Reply, type \n",
      "\"Send Info\" in the Subject box and hit Send. I'll get the information to you \n",
      "within 24 hours. Just look for the words MLM WALL OF SHAME in your Inbox.\n",
      "\n",
      "Cordially,\n",
      "\n",
      "Siddhi\n",
      "\n",
      "P.S. Someone recently sent the letter to me and it has been the most \n",
      "eye-opening, financially beneficial information I have ever received. I \n",
      "honestly believe that you will feel the same way once you've read it. And \n",
      "it's FREE!\n",
      "\n",
      "\n",
      "------------------------------------------------------------\n",
      "This email is NEVER sent unsolicited.  THIS IS NOT \"SPAM\". You are receiving \n",
      "this email because you EXPLICITLY signed yourself up to our list with our \n",
      "online signup form or through use of our FFA Links Page and E-MailDOM \n",
      "systems, which have EXPLICIT terms of use which state that through its use \n",
      "you agree to receive our emailings.  You may also be a member of a Altra \n",
      "Computer Systems list or one of many numerous FREE Marketing Services and as \n",
      "such you agreed when you signed up for such list that you would also be \n",
      "receiving this emailing.\n",
      "Due to the above, this email message cannot be considered unsolicitated, or \n",
      "spam.\n",
      "-----------------------------------------------------------\n",
      "\n",
      "\n",
      "\n",
      "\n",
      "-- \n",
      "Irish Linux Users' Group: ilug@linux.ie\n",
      "http://www.linux.ie/mailman/listinfo/ilug for (un)subscription information.\n",
      "List maintainer: listmaster@linux.ie\n",
      "\n",
      "\n",
      "\n"
     ]
    }
   ],
   "source": [
    "print(emails[0])"
   ]
  },
  {
   "cell_type": "code",
   "execution_count": 162,
   "metadata": {},
   "outputs": [],
   "source": [
    "dfa = pd.DataFrame()\n",
    "dfa['to'] = [message.get('To') for message in emails ]\n",
    "dfa['from'] = [message.get('From') for message in emails ]\n",
    "dfa['date'] = [message.get('Date') for message in emails ]\n",
    "dfa['subject'] = [message.get('Subject') for message in emails ]\n",
    "dfa['body'] = [get_text_from_email(message) for message in emails ]\n"
   ]
  },
  {
   "cell_type": "code",
   "execution_count": 163,
   "metadata": {},
   "outputs": [
    {
     "data": {
      "text/html": [
       "<div>\n",
       "<style scoped>\n",
       "    .dataframe tbody tr th:only-of-type {\n",
       "        vertical-align: middle;\n",
       "    }\n",
       "\n",
       "    .dataframe tbody tr th {\n",
       "        vertical-align: top;\n",
       "    }\n",
       "\n",
       "    .dataframe thead th {\n",
       "        text-align: right;\n",
       "    }\n",
       "</style>\n",
       "<table border=\"1\" class=\"dataframe\">\n",
       "  <thead>\n",
       "    <tr style=\"text-align: right;\">\n",
       "      <th></th>\n",
       "      <th>to</th>\n",
       "      <th>from</th>\n",
       "      <th>date</th>\n",
       "      <th>subject</th>\n",
       "      <th>body</th>\n",
       "    </tr>\n",
       "  </thead>\n",
       "  <tbody>\n",
       "    <tr>\n",
       "      <th>count</th>\n",
       "      <td>4028</td>\n",
       "      <td>4197</td>\n",
       "      <td>4197</td>\n",
       "      <td>4196</td>\n",
       "      <td>4197</td>\n",
       "    </tr>\n",
       "    <tr>\n",
       "      <th>unique</th>\n",
       "      <td>1134</td>\n",
       "      <td>1882</td>\n",
       "      <td>3786</td>\n",
       "      <td>3061</td>\n",
       "      <td>3878</td>\n",
       "    </tr>\n",
       "    <tr>\n",
       "      <th>top</th>\n",
       "      <td>yyyy@example.com</td>\n",
       "      <td>boingboing &lt;rssfeeds@example.com&gt;</td>\n",
       "      <td>Tue, 08 Oct 2002 08:01:06 -0000</td>\n",
       "      <td>[Spambayes] test sets?</td>\n",
       "      <td>\\n     \\n              Dear\\n              Hom...</td>\n",
       "    </tr>\n",
       "    <tr>\n",
       "      <th>freq</th>\n",
       "      <td>638</td>\n",
       "      <td>114</td>\n",
       "      <td>6</td>\n",
       "      <td>27</td>\n",
       "      <td>8</td>\n",
       "    </tr>\n",
       "  </tbody>\n",
       "</table>\n",
       "</div>"
      ],
      "text/plain": [
       "                      to                               from  \\\n",
       "count               4028                               4197   \n",
       "unique              1134                               1882   \n",
       "top     yyyy@example.com  boingboing <rssfeeds@example.com>   \n",
       "freq                 638                                114   \n",
       "\n",
       "                                   date                 subject  \\\n",
       "count                              4197                    4196   \n",
       "unique                             3786                    3061   \n",
       "top     Tue, 08 Oct 2002 08:01:06 -0000  [Spambayes] test sets?   \n",
       "freq                                  6                      27   \n",
       "\n",
       "                                                     body  \n",
       "count                                                4197  \n",
       "unique                                               3878  \n",
       "top     \\n     \\n              Dear\\n              Hom...  \n",
       "freq                                                    8  "
      ]
     },
     "execution_count": 163,
     "metadata": {},
     "output_type": "execute_result"
    }
   ],
   "source": [
    "dfa.describe()"
   ]
  },
  {
   "cell_type": "code",
   "execution_count": 326,
   "metadata": {},
   "outputs": [
    {
     "data": {
      "text/html": [
       "<div>\n",
       "<style scoped>\n",
       "    .dataframe tbody tr th:only-of-type {\n",
       "        vertical-align: middle;\n",
       "    }\n",
       "\n",
       "    .dataframe tbody tr th {\n",
       "        vertical-align: top;\n",
       "    }\n",
       "\n",
       "    .dataframe thead th {\n",
       "        text-align: right;\n",
       "    }\n",
       "</style>\n",
       "<table border=\"1\" class=\"dataframe\">\n",
       "  <thead>\n",
       "    <tr style=\"text-align: right;\">\n",
       "      <th></th>\n",
       "      <th>to</th>\n",
       "      <th>from</th>\n",
       "      <th>date</th>\n",
       "      <th>subject</th>\n",
       "      <th>body</th>\n",
       "    </tr>\n",
       "  </thead>\n",
       "  <tbody>\n",
       "    <tr>\n",
       "      <th>0</th>\n",
       "      <td>ilug@linux.ie</td>\n",
       "      <td>Start Now &lt;startnow2002@hotmail.com&gt;</td>\n",
       "      <td>Fri, 02 Aug 2002 23:37:59 +0530</td>\n",
       "      <td>[ILUG] STOP THE MLM INSANITY</td>\n",
       "      <td>Greetings!\\n\\nYou are receiving this letter be...</td>\n",
       "    </tr>\n",
       "    <tr>\n",
       "      <th>1</th>\n",
       "      <td>ranmoore@cybertime.net</td>\n",
       "      <td>lmrn@mailexcite.com</td>\n",
       "      <td>Mon, 28 Jul 1980 14:01:35 -0000</td>\n",
       "      <td>Real Protection, Stun Guns!  Free Shipping! Ti...</td>\n",
       "      <td>\\nThe Need For Safety Is Real In 2002, You Mig...</td>\n",
       "    </tr>\n",
       "    <tr>\n",
       "      <th>2</th>\n",
       "      <td>cbmark@cbmark.com</td>\n",
       "      <td>amknight@mailexcite.com</td>\n",
       "      <td>Wed, 30 Jul 1980 18:25:49 -0000</td>\n",
       "      <td>New Improved Fat Burners, Now With TV Fat Abso...</td>\n",
       "      <td>\\n*****Bonus Fat Absorbers As Seen On TV, Incl...</td>\n",
       "    </tr>\n",
       "    <tr>\n",
       "      <th>3</th>\n",
       "      <td>ranmoore@swbell.net</td>\n",
       "      <td>jordan23@mailexcite.com</td>\n",
       "      <td>Thu, 31 Jul 1980 07:20:54 -0000</td>\n",
       "      <td>New Improved Fat Burners, Now With TV Fat Abso...</td>\n",
       "      <td>\\n*****Bonus Fat Absorbers As Seen On TV, Incl...</td>\n",
       "    </tr>\n",
       "    <tr>\n",
       "      <th>4</th>\n",
       "      <td>yyyy@pluriproj.pt</td>\n",
       "      <td>yyyy@pluriproj.pt</td>\n",
       "      <td>Sun, 19 Oct 1980 10:55:16 -0000</td>\n",
       "      <td>Never Repay Cash Grants, $500 - $50,000, Secre...</td>\n",
       "      <td>\\nGovernment Grants E-Book 2002\\nedition, Just...</td>\n",
       "    </tr>\n",
       "  </tbody>\n",
       "</table>\n",
       "</div>"
      ],
      "text/plain": [
       "                       to                                  from  \\\n",
       "0           ilug@linux.ie  Start Now <startnow2002@hotmail.com>   \n",
       "1  ranmoore@cybertime.net                   lmrn@mailexcite.com   \n",
       "2       cbmark@cbmark.com               amknight@mailexcite.com   \n",
       "3     ranmoore@swbell.net               jordan23@mailexcite.com   \n",
       "4       yyyy@pluriproj.pt                     yyyy@pluriproj.pt   \n",
       "\n",
       "                              date  \\\n",
       "0  Fri, 02 Aug 2002 23:37:59 +0530   \n",
       "1  Mon, 28 Jul 1980 14:01:35 -0000   \n",
       "2  Wed, 30 Jul 1980 18:25:49 -0000   \n",
       "3  Thu, 31 Jul 1980 07:20:54 -0000   \n",
       "4  Sun, 19 Oct 1980 10:55:16 -0000   \n",
       "\n",
       "                                             subject  \\\n",
       "0                       [ILUG] STOP THE MLM INSANITY   \n",
       "1  Real Protection, Stun Guns!  Free Shipping! Ti...   \n",
       "2  New Improved Fat Burners, Now With TV Fat Abso...   \n",
       "3  New Improved Fat Burners, Now With TV Fat Abso...   \n",
       "4  Never Repay Cash Grants, $500 - $50,000, Secre...   \n",
       "\n",
       "                                                body  \n",
       "0  Greetings!\\n\\nYou are receiving this letter be...  \n",
       "1  \\nThe Need For Safety Is Real In 2002, You Mig...  \n",
       "2  \\n*****Bonus Fat Absorbers As Seen On TV, Incl...  \n",
       "3  \\n*****Bonus Fat Absorbers As Seen On TV, Incl...  \n",
       "4  \\nGovernment Grants E-Book 2002\\nedition, Just...  "
      ]
     },
     "execution_count": 326,
     "metadata": {},
     "output_type": "execute_result"
    }
   ],
   "source": [
    "dfa.head()"
   ]
  },
  {
   "cell_type": "markdown",
   "metadata": {},
   "source": [
    "## Cleaning and Preparation"
   ]
  },
  {
   "cell_type": "code",
   "execution_count": 365,
   "metadata": {},
   "outputs": [],
   "source": [
    "# replace invalid year information\n",
    "dfa['date'] = dfa['date'].str.replace(\" 0102 \", \" 2010 \")"
   ]
  },
  {
   "cell_type": "code",
   "execution_count": 368,
   "metadata": {},
   "outputs": [],
   "source": [
    "# convert field to date format\n",
    "dfa['date'] = pd.to_datetime(dfa['date'], utc=True, infer_datetime_format=True)"
   ]
  },
  {
   "cell_type": "code",
   "execution_count": 376,
   "metadata": {},
   "outputs": [
    {
     "data": {
      "text/plain": [
       "to                      object\n",
       "from                    object\n",
       "date       datetime64[ns, UTC]\n",
       "subject                 object\n",
       "body                    object\n",
       "dtype: object"
      ]
     },
     "execution_count": 376,
     "metadata": {},
     "output_type": "execute_result"
    }
   ],
   "source": [
    "dfa.dtypes"
   ]
  },
  {
   "cell_type": "code",
   "execution_count": 377,
   "metadata": {},
   "outputs": [],
   "source": [
    "# remove rows without body\n",
    "dfa = dfa[dfa.body != '']"
   ]
  },
  {
   "cell_type": "code",
   "execution_count": 378,
   "metadata": {},
   "outputs": [
    {
     "data": {
      "text/html": [
       "<div>\n",
       "<style scoped>\n",
       "    .dataframe tbody tr th:only-of-type {\n",
       "        vertical-align: middle;\n",
       "    }\n",
       "\n",
       "    .dataframe tbody tr th {\n",
       "        vertical-align: top;\n",
       "    }\n",
       "\n",
       "    .dataframe thead th {\n",
       "        text-align: right;\n",
       "    }\n",
       "</style>\n",
       "<table border=\"1\" class=\"dataframe\">\n",
       "  <thead>\n",
       "    <tr style=\"text-align: right;\">\n",
       "      <th></th>\n",
       "      <th>to</th>\n",
       "      <th>from</th>\n",
       "      <th>date</th>\n",
       "      <th>subject</th>\n",
       "      <th>body</th>\n",
       "    </tr>\n",
       "  </thead>\n",
       "  <tbody>\n",
       "    <tr>\n",
       "      <th>count</th>\n",
       "      <td>4026</td>\n",
       "      <td>4195</td>\n",
       "      <td>4195</td>\n",
       "      <td>4194</td>\n",
       "      <td>4195</td>\n",
       "    </tr>\n",
       "    <tr>\n",
       "      <th>unique</th>\n",
       "      <td>1134</td>\n",
       "      <td>1880</td>\n",
       "      <td>3783</td>\n",
       "      <td>3059</td>\n",
       "      <td>3877</td>\n",
       "    </tr>\n",
       "    <tr>\n",
       "      <th>top</th>\n",
       "      <td>yyyy@example.com</td>\n",
       "      <td>boingboing &lt;rssfeeds@example.com&gt;</td>\n",
       "      <td>2002-10-08 08:01:22+00:00</td>\n",
       "      <td>[Spambayes] test sets?</td>\n",
       "      <td>\\n     \\n              Dear\\n              Hom...</td>\n",
       "    </tr>\n",
       "    <tr>\n",
       "      <th>freq</th>\n",
       "      <td>638</td>\n",
       "      <td>114</td>\n",
       "      <td>6</td>\n",
       "      <td>27</td>\n",
       "      <td>8</td>\n",
       "    </tr>\n",
       "    <tr>\n",
       "      <th>first</th>\n",
       "      <td>NaN</td>\n",
       "      <td>NaN</td>\n",
       "      <td>1980-07-28 14:01:35+00:00</td>\n",
       "      <td>NaN</td>\n",
       "      <td>NaN</td>\n",
       "    </tr>\n",
       "    <tr>\n",
       "      <th>last</th>\n",
       "      <td>NaN</td>\n",
       "      <td>NaN</td>\n",
       "      <td>2028-10-04 16:05:01+00:00</td>\n",
       "      <td>NaN</td>\n",
       "      <td>NaN</td>\n",
       "    </tr>\n",
       "  </tbody>\n",
       "</table>\n",
       "</div>"
      ],
      "text/plain": [
       "                      to                               from  \\\n",
       "count               4026                               4195   \n",
       "unique              1134                               1880   \n",
       "top     yyyy@example.com  boingboing <rssfeeds@example.com>   \n",
       "freq                 638                                114   \n",
       "first                NaN                                NaN   \n",
       "last                 NaN                                NaN   \n",
       "\n",
       "                             date                 subject  \\\n",
       "count                        4195                    4194   \n",
       "unique                       3783                    3059   \n",
       "top     2002-10-08 08:01:22+00:00  [Spambayes] test sets?   \n",
       "freq                            6                      27   \n",
       "first   1980-07-28 14:01:35+00:00                     NaN   \n",
       "last    2028-10-04 16:05:01+00:00                     NaN   \n",
       "\n",
       "                                                     body  \n",
       "count                                                4195  \n",
       "unique                                               3877  \n",
       "top     \\n     \\n              Dear\\n              Hom...  \n",
       "freq                                                    8  \n",
       "first                                                 NaN  \n",
       "last                                                  NaN  "
      ]
     },
     "execution_count": 378,
     "metadata": {},
     "output_type": "execute_result"
    }
   ],
   "source": [
    "dfa.describe()"
   ]
  },
  {
   "cell_type": "code",
   "execution_count": 382,
   "metadata": {},
   "outputs": [
    {
     "name": "stdout",
     "output_type": "stream",
     "text": [
      "0\n",
      "0\n",
      "30\n",
      "1\n"
     ]
    }
   ],
   "source": [
    "print(sum(dfa.body == ''))\n",
    "print(sum(pd.isna(dfa.date )))\n",
    "print(sum(dfa.to == ''))\n",
    "print(sum(dfa['from'] == ''))"
   ]
  },
  {
   "cell_type": "markdown",
   "metadata": {},
   "source": [
    "## Save new dataset with extracted fields"
   ]
  },
  {
   "cell_type": "code",
   "execution_count": 383,
   "metadata": {},
   "outputs": [],
   "source": [
    "dfa.loc[:, ('date', 'to', 'from', 'body')].to_csv (os.path.join(input_dir, 'spamassassin_clean.csv'), index = False, header=True)"
   ]
  }
 ],
 "metadata": {
  "kernelspec": {
   "display_name": "Python 3",
   "language": "python",
   "name": "python3"
  },
  "language_info": {
   "codemirror_mode": {
    "name": "ipython",
    "version": 3
   },
   "file_extension": ".py",
   "mimetype": "text/x-python",
   "name": "python",
   "nbconvert_exporter": "python",
   "pygments_lexer": "ipython3",
   "version": "3.7.6"
  },
  "toc": {
   "base_numbering": 1,
   "nav_menu": {},
   "number_sections": true,
   "sideBar": true,
   "skip_h1_title": false,
   "title_cell": "Table of Contents",
   "title_sidebar": "Contents",
   "toc_cell": false,
   "toc_position": {},
   "toc_section_display": true,
   "toc_window_display": false
  }
 },
 "nbformat": 4,
 "nbformat_minor": 4
}
